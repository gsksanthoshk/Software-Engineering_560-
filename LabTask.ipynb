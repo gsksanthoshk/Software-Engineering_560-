{
  "nbformat": 4,
  "nbformat_minor": 0,
  "metadata": {
    "colab": {
      "provenance": [],
      "include_colab_link": true
    },
    "kernelspec": {
      "name": "python3",
      "display_name": "Python 3"
    },
    "language_info": {
      "name": "python"
    }
  },
  "cells": [
    {
      "cell_type": "markdown",
      "metadata": {
        "id": "view-in-github",
        "colab_type": "text"
      },
      "source": [
        "<a href=\"https://colab.research.google.com/github/gsksanthoshk/Software-Engineering_560-/blob/main/LabTask.ipynb\" target=\"_parent\"><img src=\"https://colab.research.google.com/assets/colab-badge.svg\" alt=\"Open In Colab\"/></a>"
      ]
    },
    {
      "cell_type": "code",
      "execution_count": null,
      "metadata": {
        "id": "tbb3Sw1Hj3Nk"
      },
      "outputs": [],
      "source": [
        "def temparature_modelling(a,b,c,time):\n",
        "  temparature=a*time**2+b*time+c\n",
        "  return temparature"
      ]
    },
    {
      "cell_type": "code",
      "source": [
        "#hardcoded variables\n",
        "a,b,c=0.1,2,10\n",
        "time=5"
      ],
      "metadata": {
        "id": "JLFPI9oXl0F5"
      },
      "execution_count": null,
      "outputs": []
    },
    {
      "cell_type": "code",
      "source": [
        "print(\"hardcoded variables are\",temparature_modelling(a,b,c,time))"
      ],
      "metadata": {
        "colab": {
          "base_uri": "https://localhost:8080/"
        },
        "id": "AwCDfxRemvL-",
        "outputId": "9d3e84ae-a9e8-48d3-901c-797049183303"
      },
      "execution_count": null,
      "outputs": [
        {
          "output_type": "stream",
          "name": "stdout",
          "text": [
            "hardcoded variables are 22.5\n"
          ]
        }
      ]
    },
    {
      "cell_type": "code",
      "source": [
        "a=float(input('enter a coefficient'))\n",
        "b=float(input('enter b coefficient'))\n",
        "c=float(input('enter c coefficient'))\n"
      ],
      "metadata": {
        "colab": {
          "base_uri": "https://localhost:8080/"
        },
        "id": "Xvo10FYnm6Ag",
        "outputId": "569307fb-a65b-46bb-f066-b9ced24e90bc"
      },
      "execution_count": null,
      "outputs": [
        {
          "name": "stdout",
          "output_type": "stream",
          "text": [
            "enter a coefficient0.5\n",
            "enter b coefficient0.7\n",
            "enter c coefficient0.9\n"
          ]
        }
      ]
    },
    {
      "cell_type": "code",
      "source": [
        "time=float(input(\"enter any time\"))\n"
      ],
      "metadata": {
        "colab": {
          "base_uri": "https://localhost:8080/"
        },
        "id": "7OPD54nQnV3D",
        "outputId": "ec9a4e09-5a35-493e-caee-ba656460a5bc"
      },
      "execution_count": null,
      "outputs": [
        {
          "name": "stdout",
          "output_type": "stream",
          "text": [
            "enter any time7\n"
          ]
        }
      ]
    },
    {
      "cell_type": "code",
      "source": [
        "print(\"hardcoded variables are\",temparature_modelling(a,b,c,time))"
      ],
      "metadata": {
        "colab": {
          "base_uri": "https://localhost:8080/"
        },
        "id": "6NzWEB-9nMQc",
        "outputId": "3870c362-778a-416e-f1e4-a848a9516fa3"
      },
      "execution_count": null,
      "outputs": [
        {
          "output_type": "stream",
          "name": "stdout",
          "text": [
            "hardcoded variables are 30.299999999999997\n"
          ]
        }
      ]
    },
    {
      "cell_type": "code",
      "source": [
        "\n",
        "def read_from_file(input1):\n",
        "\n",
        "  with open('input1.txt', 'r') as file:\n",
        "   lines=file.readlines()\n",
        "  coefficients = [tuple (map (float, line.strip().split(','))) for line in lines]\n",
        "  return coefficients\n"
      ],
      "metadata": {
        "id": "ewxRbcQHnrKN"
      },
      "execution_count": null,
      "outputs": []
    },
    {
      "cell_type": "code",
      "source": [
        "coefficients=read_from_file('/content/input1.txt')\n",
        "a,b,c,time=coefficients[0]\n",
        "\n",
        "print(\"Temperature form keyboard coefficients at time\", time, \"hours:\", temparature_modelling(a,b,c,time))"
      ],
      "metadata": {
        "colab": {
          "base_uri": "https://localhost:8080/"
        },
        "id": "MRuoPiKYtfE-",
        "outputId": "2f538343-89f6-407c-81f7-20fa0dc90185"
      },
      "execution_count": null,
      "outputs": [
        {
          "output_type": "stream",
          "name": "stdout",
          "text": [
            "Temperature form keyboard coefficients at time 7.0 hours: 544.9\n"
          ]
        }
      ]
    },
    {
      "cell_type": "code",
      "source": [
        "for idx, (a, b, c,time) in enumerate (coefficients):\n",
        "\n",
        "  print(\"Temperature form keyboard coefficients at time\", time, \"hours:\",temparature_modelling(a,b,c,time))"
      ],
      "metadata": {
        "colab": {
          "base_uri": "https://localhost:8080/"
        },
        "id": "67EWsqFq2meo",
        "outputId": "19bc2cd4-81b9-43bf-aa33-90d3a6f164f5"
      },
      "execution_count": null,
      "outputs": [
        {
          "output_type": "stream",
          "name": "stdout",
          "text": [
            "Temperature form keyboard coefficients at time 7.0 hours: 544.9\n",
            "Temperature form keyboard coefficients at time 8.0 hours: 1342.9\n",
            "Temperature form keyboard coefficients at time 9.0 hours: 572.0\n"
          ]
        }
      ]
    }
  ]
}